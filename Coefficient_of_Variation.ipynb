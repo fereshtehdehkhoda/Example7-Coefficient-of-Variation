{
  "cells": [
    {
      "cell_type": "markdown",
      "metadata": {
        "id": "view-in-github",
        "colab_type": "text"
      },
      "source": [
        "<a href=\"https://colab.research.google.com/github/fereshtehdehkhoda/Example7-Coefficient-of-Variation/blob/main/Coefficient_of_Variation.ipynb\" target=\"_parent\"><img src=\"https://colab.research.google.com/assets/colab-badge.svg\" alt=\"Open In Colab\"/></a>"
      ]
    },
    {
      "cell_type": "markdown",
      "id": "2d783c55-5548-468c-b557-ac4fda0f6329",
      "metadata": {
        "id": "2d783c55-5548-468c-b557-ac4fda0f6329"
      },
      "source": [
        "# Coefficient of Variation\n",
        "# ضریب تغییرات مساوی= میانگین تقسیم بر انحراف معیار"
      ]
    },
    {
      "cell_type": "code",
      "execution_count": 1,
      "id": "1f885a78-51c4-48d7-8c65-c736b74c54e7",
      "metadata": {
        "colab": {
          "base_uri": "https://localhost:8080/"
        },
        "id": "1f885a78-51c4-48d7-8c65-c736b74c54e7",
        "outputId": "4258578e-762b-453b-e650-391a2795f7c1"
      },
      "outputs": [
        {
          "output_type": "execute_result",
          "data": {
            "text/plain": [
              "0.9467502299360869"
            ]
          },
          "metadata": {},
          "execution_count": 1
        }
      ],
      "source": [
        "l=[1,1,1,3,3,5,7,16,21,26,34,42,53,61]\n",
        "\n",
        "#Step1\n",
        "import statistics as stat\n",
        "\n",
        "o=(stat.mean(l))/stat.stdev(l)\n",
        "o"
      ]
    },
    {
      "cell_type": "code",
      "source": [],
      "metadata": {
        "id": "lAq-auz5J5zM"
      },
      "id": "lAq-auz5J5zM",
      "execution_count": null,
      "outputs": []
    }
  ],
  "metadata": {
    "kernelspec": {
      "display_name": "Python 3 (ipykernel)",
      "language": "python",
      "name": "python3"
    },
    "language_info": {
      "codemirror_mode": {
        "name": "ipython",
        "version": 3
      },
      "file_extension": ".py",
      "mimetype": "text/x-python",
      "name": "python",
      "nbconvert_exporter": "python",
      "pygments_lexer": "ipython3",
      "version": "3.12.4"
    },
    "colab": {
      "provenance": [],
      "include_colab_link": true
    }
  },
  "nbformat": 4,
  "nbformat_minor": 5
}